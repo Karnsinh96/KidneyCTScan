{
 "cells": [
  {
   "cell_type": "code",
   "execution_count": 3,
   "metadata": {},
   "outputs": [],
   "source": [
    "import os\n",
    "\n",
    "#MLFlow\n",
    "os.environ['MLFLOW_TRACKING_URI']='https://dagshub.com/Karnsinh96/KidneyCTScan.mlflow'\n",
    "os.environ['MLFLOW_TRACKING_USERNAME']='Karnsinh96'\n",
    "os.environ['MLFLOW_TRACKING_PASSWORD']='49dfbacbbe38354686de7ff25de3cc5069a5405b'\n",
    "\n",
    " \n"
   ]
  },
  {
   "cell_type": "code",
   "execution_count": 4,
   "metadata": {},
   "outputs": [
    {
     "data": {
      "text/plain": [
       "'\\nMLFLOW_TRACKING_URI=https://dagshub.com/Karnsinh96/KidneyCTScan.mlflow MLFLOW_TRACKING_USERNAME=Karnsinh96 MLFLOW_TRACKING_PASSWORD=49dfbacbbe38354686de7ff25de3cc5069a5405b python script.py\\n'"
      ]
     },
     "execution_count": 4,
     "metadata": {},
     "output_type": "execute_result"
    }
   ],
   "source": [
    "'''\n",
    "MLFLOW_TRACKING_URI=https://dagshub.com/Karnsinh96/KidneyCTScan.mlflow \\\n",
    "MLFLOW_TRACKING_USERNAME=Karnsinh96 \\\n",
    "MLFLOW_TRACKING_PASSWORD=49dfbacbbe38354686de7ff25de3cc5069a5405b \\\n",
    "python script.py\n",
    "'''"
   ]
  },
  {
   "cell_type": "code",
   "execution_count": null,
   "metadata": {},
   "outputs": [],
   "source": []
  },
  {
   "cell_type": "code",
   "execution_count": null,
   "metadata": {},
   "outputs": [],
   "source": []
  }
 ],
 "metadata": {
  "kernelspec": {
   "display_name": "venv",
   "language": "python",
   "name": "python3"
  },
  "language_info": {
   "codemirror_mode": {
    "name": "ipython",
    "version": 3
   },
   "file_extension": ".py",
   "mimetype": "text/x-python",
   "name": "python",
   "nbconvert_exporter": "python",
   "pygments_lexer": "ipython3",
   "version": "3.11.7"
  }
 },
 "nbformat": 4,
 "nbformat_minor": 2
}
